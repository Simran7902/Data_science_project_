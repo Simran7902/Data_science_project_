{
  "cells": [
    {
      "cell_type": "markdown",
      "id": "42f4af76",
      "metadata": {
        "id": "42f4af76"
      },
      "source": [
        "# Lets Grow More (LGMVIP) - \"DATA SCIENCE INTERN\"\n",
        "# LGMVIP June-22"
      ]
    },
    {
      "cell_type": "markdown",
      "id": "25685021",
      "metadata": {
        "id": "25685021"
      },
      "source": [
        "## AUTHOR - Simran Jangid"
      ]
    },
    {
      "cell_type": "markdown",
      "id": "a0ef94be",
      "metadata": {
        "id": "a0ef94be"
      },
      "source": [
        "### BEGINNER LEVEL TASK"
      ]
    },
    {
      "cell_type": "markdown",
      "id": "3116d39e",
      "metadata": {
        "id": "3116d39e"
      },
      "source": [
        "### TASK-3- Image to Pencil Sketch with Python:\n",
        "\n",
        "We need to read the image in RBG format and then convert it to a grayscale image. This will turn an image into a classic black and white photo. Then the next thing to do is invert the grayscale image also called negative image, this will be our inverted grayscale image. Inversion can be used to enhance details. Then we can finally create the pencil sketch by mixing the grayscale image with the inverted blurry image. This can be done by dividing the grayscale image by the inverted blurry image. Since images are just arrays, we can easily do this programmatically using the divide function from the cv2 library in Python."
      ]
    },
    {
      "cell_type": "markdown",
      "id": "bbca3fe8",
      "metadata": {
        "id": "bbca3fe8"
      },
      "source": [
        "### For this task i'm using two images, first one is of a bird and second one is of a girl"
      ]
    },
    {
      "cell_type": "markdown",
      "id": "240d1d7d",
      "metadata": {
        "id": "240d1d7d"
      },
      "source": [
        "# Importing openCV2 Library"
      ]
    },
    {
      "cell_type": "code",
      "execution_count": null,
      "id": "d925444a",
      "metadata": {
        "id": "d925444a"
      },
      "outputs": [],
      "source": [
        "import cv2"
      ]
    },
    {
      "cell_type": "markdown",
      "id": "90999bb6",
      "metadata": {
        "id": "90999bb6"
      },
      "source": [
        "# Read the image"
      ]
    },
    {
      "cell_type": "code",
      "execution_count": null,
      "id": "d7278576",
      "metadata": {
        "id": "d7278576",
        "outputId": "d786d047-54bb-4244-bdf1-31fa202bf397"
      },
      "outputs": [
        {
          "data": {
            "text/plain": [
              "-1"
            ]
          },
          "execution_count": 36,
          "metadata": {},
          "output_type": "execute_result"
        }
      ],
      "source": [
        "image1 = cv2.imread(\"Beautiful Bird.jpg\")\n",
        "cv2.imshow(\"Beautiful Bird\", image1)\n",
        "cv2.waitKey(0)"
      ]
    },
    {
      "cell_type": "markdown",
      "id": "d38c5f12",
      "metadata": {
        "id": "d38c5f12"
      },
      "source": [
        "![download(1).png](attachment:BIRD1-LGMVIP.PNG)"
      ]
    },
    {
      "cell_type": "code",
      "execution_count": null,
      "id": "58ab20ff",
      "metadata": {
        "id": "58ab20ff",
        "outputId": "bdeaccbe-1199-4bb6-84c1-d7f3b7546af5"
      },
      "outputs": [
        {
          "data": {
            "text/plain": [
              "-1"
            ]
          },
          "execution_count": 37,
          "metadata": {},
          "output_type": "execute_result"
        }
      ],
      "source": [
        "image2 = cv2.imread(\"Baby girl.jfif\")\n",
        "cv2.imshow(\"Baby girl\", image2)\n",
        "cv2.waitKey(0)"
      ]
    },
    {
      "cell_type": "markdown",
      "id": "cee3f831",
      "metadata": {
        "id": "cee3f831"
      },
      "source": [
        "![download(2).png](attachment:GIRL1-LGMVIP.PNG)"
      ]
    },
    {
      "cell_type": "markdown",
      "id": "36ad4f9e",
      "metadata": {
        "id": "36ad4f9e"
      },
      "source": [
        "# Creating a new image by converting the original image to greyscale"
      ]
    },
    {
      "cell_type": "code",
      "execution_count": null,
      "id": "760274e6",
      "metadata": {
        "id": "760274e6",
        "outputId": "0b7034a5-bc1c-4df4-d48c-f2c589dc0845"
      },
      "outputs": [
        {
          "data": {
            "text/plain": [
              "-1"
            ]
          },
          "execution_count": 19,
          "metadata": {},
          "output_type": "execute_result"
        }
      ],
      "source": [
        "gray_image1 = cv2.cvtColor(image1, cv2.COLOR_BGR2GRAY)\n",
        "cv2.imshow(\"New Beautiful Bird\", gray_image1)\n",
        "cv2.waitKey(0)"
      ]
    },
    {
      "cell_type": "code",
      "execution_count": null,
      "id": "adc65d8d",
      "metadata": {
        "id": "adc65d8d",
        "outputId": "98857e52-b0c9-46c1-b410-8791ee6e2fe9"
      },
      "outputs": [
        {
          "data": {
            "text/plain": [
              "-1"
            ]
          },
          "execution_count": 20,
          "metadata": {},
          "output_type": "execute_result"
        }
      ],
      "source": [
        "gray_image2 = cv2.cvtColor(image2, cv2.COLOR_BGR2GRAY)\n",
        "cv2.imshow(\"New Baby girl\", gray_image2)\n",
        "cv2.waitKey(0)"
      ]
    },
    {
      "cell_type": "markdown",
      "id": "b5511326",
      "metadata": {
        "id": "b5511326"
      },
      "source": [
        "# Inverting the new grayscale image"
      ]
    },
    {
      "cell_type": "code",
      "execution_count": null,
      "id": "a4c0d98c",
      "metadata": {
        "id": "a4c0d98c",
        "outputId": "ca578fda-c181-42f8-c72b-c3e64b9f2918"
      },
      "outputs": [
        {
          "data": {
            "text/plain": [
              "-1"
            ]
          },
          "execution_count": 21,
          "metadata": {},
          "output_type": "execute_result"
        }
      ],
      "source": [
        "inverted_image1 = 255 - gray_image1\n",
        "cv2.imshow(\"Inverted1\", inverted_image1)\n",
        "cv2.waitKey()\n"
      ]
    },
    {
      "cell_type": "code",
      "execution_count": null,
      "id": "60b7fe82",
      "metadata": {
        "id": "60b7fe82",
        "outputId": "dd55edc4-cd4d-449c-8029-d14916668711"
      },
      "outputs": [
        {
          "data": {
            "text/plain": [
              "-1"
            ]
          },
          "execution_count": 22,
          "metadata": {},
          "output_type": "execute_result"
        }
      ],
      "source": [
        "inverted_image2 = 255 - gray_image2\n",
        "cv2.imshow(\"Inverted2\", inverted_image2)\n",
        "cv2.waitKey()"
      ]
    },
    {
      "cell_type": "markdown",
      "id": "7a3c8d8c",
      "metadata": {
        "id": "7a3c8d8c"
      },
      "source": [
        "#  Bluring the image by using the Gaussian Function in OpenCV"
      ]
    },
    {
      "cell_type": "code",
      "execution_count": null,
      "id": "279011c3",
      "metadata": {
        "id": "279011c3"
      },
      "outputs": [],
      "source": [
        "blurred1 = cv2.GaussianBlur(inverted_image1, (21, 21), 0)"
      ]
    },
    {
      "cell_type": "code",
      "execution_count": null,
      "id": "2ea76998",
      "metadata": {
        "id": "2ea76998"
      },
      "outputs": [],
      "source": [
        "blurred2 = cv2.GaussianBlur(inverted_image2, (21, 21), 0)"
      ]
    },
    {
      "cell_type": "markdown",
      "id": "19e42605",
      "metadata": {
        "id": "19e42605"
      },
      "source": [
        "# Inverting the blurred image and then we can easily convert the image into a pencil sketch"
      ]
    },
    {
      "cell_type": "code",
      "execution_count": null,
      "id": "ee3df829",
      "metadata": {
        "id": "ee3df829",
        "outputId": "7802257e-c45e-460f-acf6-721072c9fb05"
      },
      "outputs": [
        {
          "data": {
            "text/plain": [
              "-1"
            ]
          },
          "execution_count": 34,
          "metadata": {},
          "output_type": "execute_result"
        }
      ],
      "source": [
        "inverted_blurred1 = 255 - blurred1\n",
        "pencil_sketch1 = cv2.divide(gray_image1, inverted_blurred1, scale=256.0)\n",
        "cv2.imshow(\"Sketch1\", pencil_sketch1)\n",
        "cv2.waitKey(0)"
      ]
    },
    {
      "cell_type": "markdown",
      "id": "d03be4ce",
      "metadata": {
        "id": "d03be4ce"
      },
      "source": [
        "![download(3).png](attachment:BIRD-PENCIL-LGMVIP.PNG)"
      ]
    },
    {
      "cell_type": "code",
      "execution_count": null,
      "id": "a47b69c2",
      "metadata": {
        "id": "a47b69c2",
        "outputId": "f8c14f18-b102-415d-8b17-213b14d39af5"
      },
      "outputs": [
        {
          "data": {
            "text/plain": [
              "-1"
            ]
          },
          "execution_count": 38,
          "metadata": {},
          "output_type": "execute_result"
        }
      ],
      "source": [
        "inverted_blurred2 = 255 - blurred2\n",
        "pencil_sketch2 = cv2.divide(gray_image2, inverted_blurred2, scale=256.0)\n",
        "cv2.imshow(\"Sketch2\", pencil_sketch2)\n",
        "cv2.waitKey(0)"
      ]
    },
    {
      "cell_type": "markdown",
      "id": "13b7e1e1",
      "metadata": {
        "id": "13b7e1e1"
      },
      "source": [
        "![download(4).png](attachment:GIRL-PENCIL-LGMVIP.PNG)"
      ]
    },
    {
      "cell_type": "code",
      "source": [
        ""
      ],
      "metadata": {
        "id": "98XbzV5SCIR6"
      },
      "id": "98XbzV5SCIR6",
      "execution_count": null,
      "outputs": []
    },
    {
      "cell_type": "markdown",
      "id": "3908e369",
      "metadata": {
        "id": "3908e369"
      },
      "source": [
        "# looking at both the original image and the pencil sketch\n"
      ]
    },
    {
      "cell_type": "code",
      "execution_count": null,
      "id": "8c58df35",
      "metadata": {
        "id": "8c58df35",
        "outputId": "12bf61fc-8c0e-479e-daa6-57ce8608ee98"
      },
      "outputs": [
        {
          "data": {
            "text/plain": [
              "-1"
            ]
          },
          "execution_count": 30,
          "metadata": {},
          "output_type": "execute_result"
        }
      ],
      "source": [
        "cv2.imshow(\"original image1\", image1)\n",
        "cv2.imshow(\"pencil sketch1\", pencil_sketch1)\n",
        "cv2.waitKey(0)"
      ]
    },
    {
      "cell_type": "markdown",
      "id": "09edf154",
      "metadata": {
        "id": "09edf154"
      },
      "source": [
        "![download(5).png](attachment:Bird-LGMVIP.PNG)"
      ]
    },
    {
      "cell_type": "code",
      "execution_count": null,
      "id": "6d18e825",
      "metadata": {
        "id": "6d18e825",
        "outputId": "db44a304-4fe8-447b-b8fa-beee14429be6"
      },
      "outputs": [
        {
          "data": {
            "text/plain": [
              "-1"
            ]
          },
          "execution_count": 31,
          "metadata": {},
          "output_type": "execute_result"
        }
      ],
      "source": [
        "cv2.imshow(\"original image2\", image2)\n",
        "cv2.imshow(\"pencil sketch2\", pencil_sketch2)\n",
        "cv2.waitKey(0)"
      ]
    },
    {
      "cell_type": "markdown",
      "id": "d8197583",
      "metadata": {
        "id": "d8197583"
      },
      "source": [
        "![download(6).png](attachment:GIRL-LGMVIP.PNG)"
      ]
    },
    {
      "cell_type": "code",
      "execution_count": null,
      "id": "405e34e9",
      "metadata": {
        "id": "405e34e9"
      },
      "outputs": [],
      "source": [
        ""
      ]
    },
    {
      "cell_type": "code",
      "execution_count": null,
      "id": "0a7c9d67",
      "metadata": {
        "id": "0a7c9d67"
      },
      "outputs": [],
      "source": [
        ""
      ]
    },
    {
      "cell_type": "code",
      "execution_count": null,
      "id": "8ca590db",
      "metadata": {
        "id": "8ca590db"
      },
      "outputs": [],
      "source": [
        ""
      ]
    }
  ],
  "metadata": {
    "kernelspec": {
      "display_name": "Python 3 (ipykernel)",
      "language": "python",
      "name": "python3"
    },
    "language_info": {
      "codemirror_mode": {
        "name": "ipython",
        "version": 3
      },
      "file_extension": ".py",
      "mimetype": "text/x-python",
      "name": "python",
      "nbconvert_exporter": "python",
      "pygments_lexer": "ipython3",
      "version": "3.8.5"
    },
    "colab": {
      "name": "Task 3-Image_to_Pencil_Sketch_ (1).ipynb",
      "provenance": []
    }
  },
  "nbformat": 4,
  "nbformat_minor": 5
}