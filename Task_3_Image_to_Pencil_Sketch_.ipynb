{
  "cells": [
    {
      "cell_type": "markdown",
      "id": "42f4af76",
      "metadata": {
        "id": "42f4af76"
      },
      "source": [
        "# Lets Grow More (LGMVIP) - \"DATA SCIENCE INTERN\"\n",
        "# LGMVIP June-22"
      ]
    },
    {
      "cell_type": "markdown",
      "id": "25685021",
      "metadata": {
        "id": "25685021"
      },
      "source": [
        "## AUTHOR - Simran Jangid\n"
      ]
    },
    {
      "cell_type": "markdown",
      "id": "a0ef94be",
      "metadata": {
        "id": "a0ef94be"
      },
      "source": [
        "### BEGINNER LEVEL TASK"
      ]
    },
    {
      "cell_type": "markdown",
      "id": "3116d39e",
      "metadata": {
        "id": "3116d39e"
      },
      "source": [
        "### TASK-3- Image to Pencil Sketch with Python:\n",
        "\n",
        "We need to read the image in RBG format and then convert it to a grayscale image. This will turn an image into a classic black and white photo. Then the next thing to do is invert the grayscale image also called negative image, this will be our inverted grayscale image. Inversion can be used to enhance details. Then we can finally create the pencil sketch by mixing the grayscale image with the inverted blurry image. This can be done by dividing the grayscale image by the inverted blurry image. Since images are just arrays, we can easily do this programmatically using the divide function from the cv2 library in Python."
      ]
    },
    {
      "cell_type": "markdown",
      "id": "bbca3fe8",
      "metadata": {
        "id": "bbca3fe8"
      },
      "source": [
        "### For this task i'm using two images, first one is of a bird and second one is of a girl"
      ]
    },
    {
      "cell_type": "markdown",
      "id": "240d1d7d",
      "metadata": {
        "id": "240d1d7d"
      },
      "source": [
        "# Importing openCV2 Library"
      ]
    },
    {
      "cell_type": "code",
      "execution_count": null,
      "id": "d925444a",
      "metadata": {
        "id": "d925444a"
      },
      "outputs": [],
      "source": [
        "import cv2"
      ]
    },
    {
      "cell_type": "markdown",
      "id": "90999bb6",
      "metadata": {
        "id": "90999bb6"
      },
      "source": [
        "# Read the image"
      ]
    },
    {
      "cell_type": "code",
      "execution_count": null,
      "id": "d7278576",
      "metadata": {
        "id": "d7278576",
        "outputId": "f93b2dd5-96ed-4b64-f6b4-4930dc2715dd"
      },
      "outputs": [
        {
          "data": {
            "text/plain": [
              "-1"
            ]
          },
          "execution_count": 36,
          "metadata": {},
          "output_type": "execute_result"
        }
      ],
      "source": [
        "image1 = cv2.imread(\"Beautiful Bird.jpg\")\n",
        "cv2.imshow(\"Beautiful Bird\", image1)\n",
        "cv2.waitKey(0)"
      ]
    },
    {
      "cell_type": "markdown",
      "id": "d38c5f12",
      "metadata": {
        "id": "d38c5f12"
      },
      "source": [
        "![BIRD1-LGMVIP.PNG](attachment:BIRD1-LGMVIP.PNG)"
      ]
    },
    {
      "cell_type": "code",
      "execution_count": null,
      "id": "58ab20ff",
      "metadata": {
        "id": "58ab20ff",
        "outputId": "867bb7d9-f5b1-4cb4-a520-620fb7dcb384"
      },
      "outputs": [
        {
          "data": {
            "text/plain": [
              "-1"
            ]
          },
          "execution_count": 37,
          "metadata": {},
          "output_type": "execute_result"
        }
      ],
      "source": [
        "image2 = cv2.imread(\"Baby girl.jfif\")\n",
        "cv2.imshow(\"Baby girl\", image2)\n",
        "cv2.waitKey(0)"
      ]
    },
    {
      "cell_type": "markdown",
      "id": "cee3f831",
      "metadata": {
        "id": "cee3f831"
      },
      "source": [
        "![GIRL1-LGMVIP.PNG](attachment:GIRL1-LGMVIP.PNG)"
      ]
    },
    {
      "cell_type": "markdown",
      "id": "36ad4f9e",
      "metadata": {
        "id": "36ad4f9e"
      },
      "source": [
        "# Creating a new image by converting the original image to greyscale"
      ]
    },
    {
      "cell_type": "code",
      "execution_count": null,
      "id": "760274e6",
      "metadata": {
        "id": "760274e6",
        "outputId": "d4df42d2-faf5-41ef-fc88-8d0d9e247638"
      },
      "outputs": [
        {
          "data": {
            "text/plain": [
              "-1"
            ]
          },
          "execution_count": 19,
          "metadata": {},
          "output_type": "execute_result"
        }
      ],
      "source": [
        "gray_image1 = cv2.cvtColor(image1, cv2.COLOR_BGR2GRAY)\n",
        "cv2.imshow(\"New Beautiful Bird\", gray_image1)\n",
        "cv2.waitKey(0)"
      ]
    },
    {
      "cell_type": "code",
      "execution_count": null,
      "id": "adc65d8d",
      "metadata": {
        "id": "adc65d8d",
        "outputId": "0eac31ea-fb90-4b36-994e-c2454ad20180"
      },
      "outputs": [
        {
          "data": {
            "text/plain": [
              "-1"
            ]
          },
          "execution_count": 20,
          "metadata": {},
          "output_type": "execute_result"
        }
      ],
      "source": [
        "gray_image2 = cv2.cvtColor(image2, cv2.COLOR_BGR2GRAY)\n",
        "cv2.imshow(\"New Baby girl\", gray_image2)\n",
        "cv2.waitKey(0)"
      ]
    },
    {
      "cell_type": "markdown",
      "id": "b5511326",
      "metadata": {
        "id": "b5511326"
      },
      "source": [
        "# Inverting the new grayscale image"
      ]
    },
    {
      "cell_type": "code",
      "execution_count": null,
      "id": "a4c0d98c",
      "metadata": {
        "id": "a4c0d98c",
        "outputId": "545ab139-7a31-41ea-ab5b-24278af9bf0b"
      },
      "outputs": [
        {
          "data": {
            "text/plain": [
              "-1"
            ]
          },
          "execution_count": 21,
          "metadata": {},
          "output_type": "execute_result"
        }
      ],
      "source": [
        "inverted_image1 = 255 - gray_image1\n",
        "cv2.imshow(\"Inverted1\", inverted_image1)\n",
        "cv2.waitKey()\n"
      ]
    },
    {
      "cell_type": "code",
      "execution_count": null,
      "id": "60b7fe82",
      "metadata": {
        "id": "60b7fe82",
        "outputId": "c6d28fa2-9449-44b7-8f66-0b4836e7f2cc"
      },
      "outputs": [
        {
          "data": {
            "text/plain": [
              "-1"
            ]
          },
          "execution_count": 22,
          "metadata": {},
          "output_type": "execute_result"
        }
      ],
      "source": [
        "inverted_image2 = 255 - gray_image2\n",
        "cv2.imshow(\"Inverted2\", inverted_image2)\n",
        "cv2.waitKey()"
      ]
    },
    {
      "cell_type": "markdown",
      "id": "7a3c8d8c",
      "metadata": {
        "id": "7a3c8d8c"
      },
      "source": [
        "#  Bluring the image by using the Gaussian Function in OpenCV"
      ]
    },
    {
      "cell_type": "code",
      "execution_count": null,
      "id": "279011c3",
      "metadata": {
        "id": "279011c3"
      },
      "outputs": [],
      "source": [
        "blurred1 = cv2.GaussianBlur(inverted_image1, (21, 21), 0)"
      ]
    },
    {
      "cell_type": "code",
      "execution_count": null,
      "id": "2ea76998",
      "metadata": {
        "id": "2ea76998"
      },
      "outputs": [],
      "source": [
        "blurred2 = cv2.GaussianBlur(inverted_image2, (21, 21), 0)"
      ]
    },
    {
      "cell_type": "markdown",
      "id": "19e42605",
      "metadata": {
        "id": "19e42605"
      },
      "source": [
        "# Inverting the blurred image and then we can easily convert the image into a pencil sketch"
      ]
    },
    {
      "cell_type": "code",
      "execution_count": null,
      "id": "ee3df829",
      "metadata": {
        "id": "ee3df829",
        "outputId": "425e240c-945f-4540-95be-af3e3e21b0c7"
      },
      "outputs": [
        {
          "data": {
            "text/plain": [
              "-1"
            ]
          },
          "execution_count": 34,
          "metadata": {},
          "output_type": "execute_result"
        }
      ],
      "source": [
        "inverted_blurred1 = 255 - blurred1\n",
        "pencil_sketch1 = cv2.divide(gray_image1, inverted_blurred1, scale=256.0)\n",
        "cv2.imshow(\"Sketch1\", pencil_sketch1)\n",
        "cv2.waitKey(0)"
      ]
    },
    {
      "cell_type": "markdown",
      "id": "d03be4ce",
      "metadata": {
        "id": "d03be4ce"
      },
      "source": [
        "![BIRD-PENCIL-LGMVIP.PNG](attachment:BIRD-PENCIL-LGMVIP.PNG)"
      ]
    },
    {
      "cell_type": "code",
      "execution_count": null,
      "id": "a47b69c2",
      "metadata": {
        "id": "a47b69c2",
        "outputId": "a09110e7-2889-4d8d-ec5b-abe1c509a594"
      },
      "outputs": [
        {
          "data": {
            "text/plain": [
              "-1"
            ]
          },
          "execution_count": 38,
          "metadata": {},
          "output_type": "execute_result"
        }
      ],
      "source": [
        "inverted_blurred2 = 255 - blurred2\n",
        "pencil_sketch2 = cv2.divide(gray_image2, inverted_blurred2, scale=256.0)\n",
        "cv2.imshow(\"Sketch2\", pencil_sketch2)\n",
        "cv2.waitKey(0)"
      ]
    },
    {
      "cell_type": "markdown",
      "id": "13b7e1e1",
      "metadata": {
        "id": "13b7e1e1"
      },
      "source": [
        "![GIRL-PENCIL-LGMVIP.PNG](attachment:GIRL-PENCIL-LGMVIP.PNG)"
      ]
    },
    {
      "cell_type": "markdown",
      "id": "3908e369",
      "metadata": {
        "id": "3908e369"
      },
      "source": [
        "# looking at both the original image and the pencil sketch\n"
      ]
    },
    {
      "cell_type": "code",
      "execution_count": null,
      "id": "8c58df35",
      "metadata": {
        "id": "8c58df35",
        "outputId": "af0da1e6-d031-44f1-e6a3-57842437addc"
      },
      "outputs": [
        {
          "data": {
            "text/plain": [
              "-1"
            ]
          },
          "execution_count": 30,
          "metadata": {},
          "output_type": "execute_result"
        }
      ],
      "source": [
        "cv2.imshow(\"original image1\", image1)\n",
        "cv2.imshow(\"pencil sketch1\", pencil_sketch1)\n",
        "cv2.waitKey(0)"
      ]
    },
    {
      "cell_type": "markdown",
      "id": "09edf154",
      "metadata": {
        "id": "09edf154"
      },
      "source": [
        "![Bird-LGMVIP.PNG](attachment:Bird-LGMVIP.PNG)"
      ]
    },
    {
      "cell_type": "code",
      "execution_count": null,
      "id": "6d18e825",
      "metadata": {
        "id": "6d18e825",
        "outputId": "07afb477-470a-4762-810b-716b8de53298"
      },
      "outputs": [
        {
          "data": {
            "text/plain": [
              "-1"
            ]
          },
          "execution_count": 31,
          "metadata": {},
          "output_type": "execute_result"
        }
      ],
      "source": [
        "cv2.imshow(\"original image2\", image2)\n",
        "cv2.imshow(\"pencil sketch2\", pencil_sketch2)\n",
        "cv2.waitKey(0)"
      ]
    },
    {
      "cell_type": "markdown",
      "id": "d8197583",
      "metadata": {
        "id": "d8197583"
      },
      "source": [
        "![GIRL-LGMVIP.PNG](attachment:GIRL-LGMVIP.PNG)"
      ]
    },
    {
      "cell_type": "code",
      "execution_count": null,
      "id": "405e34e9",
      "metadata": {
        "id": "405e34e9"
      },
      "outputs": [],
      "source": [
        ""
      ]
    },
    {
      "cell_type": "code",
      "execution_count": null,
      "id": "0a7c9d67",
      "metadata": {
        "id": "0a7c9d67"
      },
      "outputs": [],
      "source": [
        ""
      ]
    },
    {
      "cell_type": "code",
      "execution_count": null,
      "id": "8ca590db",
      "metadata": {
        "id": "8ca590db"
      },
      "outputs": [],
      "source": [
        ""
      ]
    }
  ],
  "metadata": {
    "kernelspec": {
      "display_name": "Python 3 (ipykernel)",
      "language": "python",
      "name": "python3"
    },
    "language_info": {
      "codemirror_mode": {
        "name": "ipython",
        "version": 3
      },
      "file_extension": ".py",
      "mimetype": "text/x-python",
      "name": "python",
      "nbconvert_exporter": "python",
      "pygments_lexer": "ipython3",
      "version": "3.8.5"
    },
    "colab": {
      "name": "Task 3-Image_to_Pencil_Sketch_.ipynb",
      "provenance": [],
      "collapsed_sections": []
    }
  },
  "nbformat": 4,
  "nbformat_minor": 5
}